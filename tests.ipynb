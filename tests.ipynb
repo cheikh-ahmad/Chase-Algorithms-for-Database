{
 "cells": [
  {
   "attachments": {},
   "cell_type": "markdown",
   "metadata": {},
   "source": [
    "# Tests des différents algorithmes "
   ]
  },
  {
   "cell_type": "code",
   "execution_count": 11,
   "metadata": {},
   "outputs": [],
   "source": [
    "from Bdd import *"
   ]
  },
  {
   "attachments": {},
   "cell_type": "markdown",
   "metadata": {},
   "source": [
    "Dans cette section, nous proposons de tester nos différents algorithmes en prenant le maximum de cas de base que nous pouvons imaginer. Les exemples donnés dans l'instruction seront également testés sur nos algorithmes mis en œuvre.\n",
    "\n",
    "NB : Dans notre implémentation, il est implicite que pour la base de données en arguments, certaines colonnes des tables concernées par une contrainte donnée (EGD ou TGD) doivent avoir le même nom, afin de faire le lien entre les tables. Nous nous référons aux notions de clé primaire et de clé étrangère comme en SQL. Dans toute la suite, nous resterons donc dans cette logique. Cela facilite la compréhension et la mise en œuvre des TGD."
   ]
  },
  {
   "attachments": {},
   "cell_type": "markdown",
   "metadata": {},
   "source": [
    "## Test du Standard chase"
   ]
  },
  {
   "attachments": {},
   "cell_type": "markdown",
   "metadata": {},
   "source": [
    "### test N°1 : exemple du cours "
   ]
  },
  {
   "cell_type": "code",
   "execution_count": 12,
   "metadata": {},
   "outputs": [
    {
     "name": "stdout",
     "output_type": "stream",
     "text": [
      "R\n",
      "------------------------------\n",
      "A              B              \n",
      "a              b              \n",
      "\n",
      "Q\n",
      "---------------------------------------------\n",
      "A              B              G              \n",
      "\n",
      "P\n",
      "------------------------------\n",
      "B              D              \n",
      "\n"
     ]
    }
   ],
   "source": [
    "db = BDD()\n",
    "\n",
    "db.add_table('R', ['A', 'B'])  # comme dans la remarque on supposera A et B sont des clés primaires intituivement\n",
    "db.add_table('Q', ['A', 'B','G'])  # et que la A et B sont des clés étrangères références à la relation R\n",
    "db.add_table('P',['B','D'])          # idem pour B dans P  donc c'est le meme exemple du cours (ça change pas!)\n",
    "\n",
    "db.add_tuple('R', [\"a\",\"b\"])\n",
    "db.afficher_toutes_les_tables()"
   ]
  },
  {
   "cell_type": "code",
   "execution_count": 13,
   "metadata": {},
   "outputs": [
    {
     "ename": "AttributeError",
     "evalue": "'TGD' object has no attribute 'body'",
     "output_type": "error",
     "traceback": [
      "\u001b[0;31m---------------------------------------------------------------------------\u001b[0m",
      "\u001b[0;31mAttributeError\u001b[0m                            Traceback (most recent call last)",
      "Cell \u001b[0;32mIn[13], line 10\u001b[0m\n\u001b[1;32m      7\u001b[0m c2 \u001b[39m=\u001b[39m TGD([R2],[R3])\n\u001b[1;32m      8\u001b[0m c3\u001b[39m=\u001b[39m EGD([R1,R3,R4],[R5])\n\u001b[0;32m---> 10\u001b[0m db\u001b[39m.\u001b[39;49mstandard_chase([c1,c2,c3])\n\u001b[1;32m     12\u001b[0m db\u001b[39m.\u001b[39mafficher_toutes_les_tables()\n",
      "File \u001b[0;32m~/Dev/db_project/db-project/Bdd.py:373\u001b[0m, in \u001b[0;36mBDD.standard_chase\u001b[0;34m(self, constraints)\u001b[0m\n\u001b[1;32m    368\u001b[0m             \u001b[39mself\u001b[39m\u001b[39m.\u001b[39mapply_EGD_rules(tuple_, e)\n\u001b[1;32m    370\u001b[0m \u001b[39mif\u001b[39;00m \u001b[39misinstance\u001b[39m(e, TGD):\n\u001b[1;32m    371\u001b[0m \n\u001b[1;32m    372\u001b[0m     \u001b[39m# là on récupère tous les tuples qui satifassent le corps du TGD\u001b[39;00m\n\u001b[0;32m--> 373\u001b[0m     T \u001b[39m=\u001b[39m \u001b[39mself\u001b[39;49m\u001b[39m.\u001b[39;49mget_tuples_satisfy_body_TGD(e)\n\u001b[1;32m    374\u001b[0m     \u001b[39mfor\u001b[39;00m k, v \u001b[39min\u001b[39;00m T\u001b[39m.\u001b[39mitems():\n\u001b[1;32m    376\u001b[0m         \u001b[39mfor\u001b[39;00m tuple_ \u001b[39min\u001b[39;00m v:\n",
      "File \u001b[0;32m~/Dev/db_project/db-project/Bdd.py:281\u001b[0m, in \u001b[0;36mBDD.get_tuples_satisfy_body_TGD\u001b[0;34m(self, TGD)\u001b[0m\n\u001b[1;32m    274\u001b[0m \u001b[39mdef\u001b[39;00m \u001b[39mget_tuples_satisfy_body_TGD\u001b[39m(\u001b[39mself\u001b[39m, TGD):\n\u001b[1;32m    275\u001b[0m \u001b[39m    \u001b[39m\u001b[39m\"\"\"\u001b[39;00m\n\u001b[1;32m    276\u001b[0m \u001b[39m     là on part du fait que dans la tête du TGD passé en arguments contient au moins\u001b[39;00m\n\u001b[1;32m    277\u001b[0m \u001b[39m     un atome relationnel avec un body vide et un head exprimant une égalité entres variables\u001b[39;00m\n\u001b[1;32m    278\u001b[0m \u001b[39m     et on admet par définition que les head et les body ne sont constiutés que des atomes relationels\u001b[39;00m\n\u001b[1;32m    279\u001b[0m \u001b[39m    \"\"\"\u001b[39;00m\n\u001b[0;32m--> 281\u001b[0m     relational_atom \u001b[39m=\u001b[39m [atom \u001b[39mfor\u001b[39;00m atom \u001b[39min\u001b[39;00m TGD\u001b[39m.\u001b[39;49mbody]\n\u001b[1;32m    282\u001b[0m     rows \u001b[39m=\u001b[39m {atom\u001b[39m.\u001b[39mget_nom_relation(): \u001b[39mself\u001b[39m\u001b[39m.\u001b[39mget_table(atom\u001b[39m.\u001b[39mget_nom_relation())[\u001b[39m\"\u001b[39m\u001b[39mrows\u001b[39m\u001b[39m\"\u001b[39m]\n\u001b[1;32m    283\u001b[0m             \u001b[39mif\u001b[39;00m \u001b[39mlen\u001b[39m(\u001b[39mself\u001b[39m\u001b[39m.\u001b[39mget_table(atom\u001b[39m.\u001b[39mget_nom_relation())[\u001b[39m\"\u001b[39m\u001b[39mrows\u001b[39m\u001b[39m\"\u001b[39m]) \u001b[39m!=\u001b[39m \u001b[39m0\u001b[39m \u001b[39melse\u001b[39;00m \u001b[39mself\u001b[39m\u001b[39m.\u001b[39mget_table(atom\u001b[39m.\u001b[39mget_nom_relation())[\u001b[39m\"\u001b[39m\u001b[39mrows\u001b[39m\u001b[39m\"\u001b[39m]\n\u001b[1;32m    284\u001b[0m             \u001b[39mfor\u001b[39;00m atom \u001b[39min\u001b[39;00m relational_atom\n\u001b[1;32m    285\u001b[0m             }\n\u001b[1;32m    287\u001b[0m     \u001b[39mreturn\u001b[39;00m rows\n",
      "\u001b[0;31mAttributeError\u001b[0m: 'TGD' object has no attribute 'body'"
     ]
    }
   ],
   "source": [
    "R1= AtomeRelationel(\"R\", [\"A\",\"B\"])\n",
    "R2= AtomeRelationel(\"Q\", [\"A\",\"B\",\"G\"])\n",
    "R3= AtomeRelationel(\"P\",[\"B\",\"D\"])\n",
    "R4= AtomeEgalite((\"B\",\"R\"),(\"B\",\"P\"))\n",
    "R5= AtomeEgalite((\"A\",\"R\"),(\"D\",\"P\"))\n",
    "c1= TGD([R1],[R2])\n",
    "c2 = TGD([R2],[R3])\n",
    "c3= EGD([R1,R3,R4],[R5])\n",
    "\n",
    "db.standard_chase([c1,c2,c3])\n",
    "\n",
    "db.afficher_toutes_les_tables()"
   ]
  },
  {
   "attachments": {},
   "cell_type": "markdown",
   "metadata": {},
   "source": [
    "test No. 2 : Nous essayons d'illustrer le 2ème point de la remarque 3.2 pour les EGD qui est le suivant :\n",
    "\n",
    "<< Pour les EGD, il ne faut pas oublier d'égaliser toutes les variables, et pas seulement\n",
    "celles qui apparaissent dans les tuples manipulés. Par exemple, lorsque deux NULL\n",
    "ont été préalablement égalisés, si l'un d'entre eux est égalisé avec une autre valeur\n",
    "alors les deux sont égalisées. >>"
   ]
  },
  {
   "cell_type": "code",
   "execution_count": 25,
   "metadata": {},
   "outputs": [],
   "source": [
    "database = BDD()\n",
    "database.add_table('employees', ['id', 'name', 'salary'])\n",
    "database.add_tuple('employees', [1, 'Alice', 50000])\n",
    "database.add_tuple('employees', [2, 'Bob', 60000])\n",
    "database.add_tuple('employees', [3, 'Charlie', 70000])\n",
    "\n",
    "database.add_table('departments', ['id', 'name'])\n",
    "database.add_tuple('departments', [2, 'T'])\n",
    "database.add_tuple('departments', [1, 'S'])\n",
    "\n",
    "\n",
    "database.add_table('ingenieur', ['id', 'name', 'age'])\n",
    "database.add_tuple('ingenieur', [5, 'Alice', 15])\n",
    "database.add_tuple('ingenieur', [19, 'Bob', 25])"
   ]
  },
  {
   "cell_type": "code",
   "execution_count": 26,
   "metadata": {},
   "outputs": [
    {
     "name": "stdout",
     "output_type": "stream",
     "text": [
      "('id', 'employees')\n",
      "1\n",
      "5\n",
      "{'id': 5, 'name': 'Alice', 'salary': 50000}\n",
      "('id', 'employees')\n",
      "2\n",
      "19\n",
      "{'id': 19, 'name': 'Bob', 'salary': 60000}\n",
      "EMPLOYEES\n",
      "---------------------------------------------\n",
      "id             name           salary         \n",
      "5              Alice          50000          \n",
      "19             Bob            60000          \n",
      "3              Charlie        70000          \n",
      "\n",
      "DEPARTMENTS\n",
      "------------------------------\n",
      "id             name           \n",
      "2              T              \n",
      "1              S              \n",
      "\n",
      "INGENIEUR\n",
      "---------------------------------------------\n",
      "id             name           age            \n",
      "5              Alice          15             \n",
      "19             Bob            25             \n",
      "\n"
     ]
    }
   ],
   "source": [
    "c1= AtomeRelationel(\"employees\", [\"id\",\"name\",\"salary\"])\n",
    "c2= AtomeRelationel(\"ingenieur\", ['id', 'name', 'age'])\n",
    "c3= AtomeEgalite((\"name\",\"employees\"),(\"name\",\"ingenieur\"))\n",
    "c4= AtomeEgalite((\"id\",\"employees\"),(\"id\",\"ingenieur\"))\n",
    "egd= EGD([c1,c2,c3],[c4])\n",
    "\n",
    "database.standard_chase([egd])\n",
    "\n",
    "database.afficher_toutes_les_tables()"
   ]
  },
  {
   "attachments": {},
   "cell_type": "markdown",
   "metadata": {},
   "source": [
    "## Test de l'oblivious_chase\n",
    "Test1: Exemple du cours "
   ]
  },
  {
   "cell_type": "code",
   "execution_count": 27,
   "metadata": {},
   "outputs": [
    {
     "ename": "AttributeError",
     "evalue": "'list' object has no attribute 'corps'",
     "output_type": "error",
     "traceback": [
      "\u001b[0;31m---------------------------------------------------------------------------\u001b[0m",
      "\u001b[0;31mAttributeError\u001b[0m                            Traceback (most recent call last)",
      "Cell \u001b[0;32mIn[27], line 9\u001b[0m\n\u001b[1;32m      5\u001b[0m r\u001b[39m=\u001b[39m AtomeRelationel(\u001b[39m\"\u001b[39m\u001b[39mR\u001b[39m\u001b[39m\"\u001b[39m, [\u001b[39m'\u001b[39m\u001b[39mA\u001b[39m\u001b[39m'\u001b[39m, \u001b[39m'\u001b[39m\u001b[39mB\u001b[39m\u001b[39m'\u001b[39m])\n\u001b[1;32m      7\u001b[0m tgd \u001b[39m=\u001b[39m TGD ([r],[r])\n\u001b[0;32m----> 9\u001b[0m db\u001b[39m.\u001b[39;49moblivious_chase([tgd])\n",
      "File \u001b[0;32m~/Dev/db_project/db-project/Bdd.py:384\u001b[0m, in \u001b[0;36mBDD.oblivious_chase\u001b[0;34m(self, tgd)\u001b[0m\n\u001b[1;32m    382\u001b[0m \u001b[39mdef\u001b[39;00m \u001b[39moblivious_chase\u001b[39m(\u001b[39mself\u001b[39m, tgd):\n\u001b[0;32m--> 384\u001b[0m     tuples_satisfy_body \u001b[39m=\u001b[39m \u001b[39mself\u001b[39;49m\u001b[39m.\u001b[39;49mget_tuples_satisfy_body_TGD(tgd)\n\u001b[1;32m    385\u001b[0m     count \u001b[39m=\u001b[39m \u001b[39m0\u001b[39m\n\u001b[1;32m    387\u001b[0m     \u001b[39mwhile\u001b[39;00m \u001b[39mlen\u001b[39m(tuples_satisfy_body) \u001b[39m!=\u001b[39m \u001b[39m0\u001b[39m \u001b[39mand\u001b[39;00m count \u001b[39m<\u001b[39m\u001b[39m=\u001b[39m \u001b[39m5\u001b[39m:\n",
      "File \u001b[0;32m~/Dev/db_project/db-project/Bdd.py:281\u001b[0m, in \u001b[0;36mBDD.get_tuples_satisfy_body_TGD\u001b[0;34m(self, TGD)\u001b[0m\n\u001b[1;32m    274\u001b[0m \u001b[39mdef\u001b[39;00m \u001b[39mget_tuples_satisfy_body_TGD\u001b[39m(\u001b[39mself\u001b[39m, TGD):\n\u001b[1;32m    275\u001b[0m \u001b[39m    \u001b[39m\u001b[39m\"\"\"\u001b[39;00m\n\u001b[1;32m    276\u001b[0m \u001b[39m     là on part du fait que dans la tête du TGD passé en arguments contient au moins\u001b[39;00m\n\u001b[1;32m    277\u001b[0m \u001b[39m     un atome relationnel avec un body vide et un head exprimant une égalité entres variables\u001b[39;00m\n\u001b[1;32m    278\u001b[0m \u001b[39m     et on admet par définition que les head et les body ne sont constiutés que des atomes relationels\u001b[39;00m\n\u001b[1;32m    279\u001b[0m \u001b[39m    \"\"\"\u001b[39;00m\n\u001b[0;32m--> 281\u001b[0m     relational_atom \u001b[39m=\u001b[39m [atom \u001b[39mfor\u001b[39;00m atom \u001b[39min\u001b[39;00m TGD\u001b[39m.\u001b[39;49mcorps]\n\u001b[1;32m    282\u001b[0m     rows \u001b[39m=\u001b[39m {atom\u001b[39m.\u001b[39mget_nom_relation(): \u001b[39mself\u001b[39m\u001b[39m.\u001b[39mget_table(atom\u001b[39m.\u001b[39mget_nom_relation())[\u001b[39m\"\u001b[39m\u001b[39mrows\u001b[39m\u001b[39m\"\u001b[39m]\n\u001b[1;32m    283\u001b[0m             \u001b[39mif\u001b[39;00m \u001b[39mlen\u001b[39m(\u001b[39mself\u001b[39m\u001b[39m.\u001b[39mget_table(atom\u001b[39m.\u001b[39mget_nom_relation())[\u001b[39m\"\u001b[39m\u001b[39mrows\u001b[39m\u001b[39m\"\u001b[39m]) \u001b[39m!=\u001b[39m \u001b[39m0\u001b[39m \u001b[39melse\u001b[39;00m \u001b[39mself\u001b[39m\u001b[39m.\u001b[39mget_table(atom\u001b[39m.\u001b[39mget_nom_relation())[\u001b[39m\"\u001b[39m\u001b[39mrows\u001b[39m\u001b[39m\"\u001b[39m]\n\u001b[1;32m    284\u001b[0m             \u001b[39mfor\u001b[39;00m atom \u001b[39min\u001b[39;00m relational_atom\n\u001b[1;32m    285\u001b[0m             }\n\u001b[1;32m    287\u001b[0m     \u001b[39mreturn\u001b[39;00m rows\n",
      "\u001b[0;31mAttributeError\u001b[0m: 'list' object has no attribute 'corps'"
     ]
    }
   ],
   "source": [
    "db = BDD()\n",
    "db.add_table('R', ['A', 'B'])\n",
    "db.add_tuple('R', [\"a\",\"b\"])\n",
    "\n",
    "r= AtomeRelationel(\"R\", ['A', 'B'])\n",
    "\n",
    "tgd = TGD ([r],[r])\n",
    "\n",
    "db.oblivious_chase([tgd])"
   ]
  },
  {
   "attachments": {},
   "cell_type": "markdown",
   "metadata": {},
   "source": [
    "## Test de l'oblivious et skolem_chase pour les EGD"
   ]
  },
  {
   "cell_type": "code",
   "execution_count": 1,
   "metadata": {},
   "outputs": [
    {
     "ename": "NameError",
     "evalue": "name 'BDD' is not defined",
     "output_type": "error",
     "traceback": [
      "\u001b[0;31m---------------------------------------------------------------------------\u001b[0m",
      "\u001b[0;31mNameError\u001b[0m                                 Traceback (most recent call last)",
      "Cell \u001b[0;32mIn[1], line 1\u001b[0m\n\u001b[0;32m----> 1\u001b[0m database \u001b[39m=\u001b[39m BDD()\n\u001b[1;32m      2\u001b[0m database\u001b[39m.\u001b[39madd_table(\u001b[39m'\u001b[39m\u001b[39mEtudiant\u001b[39m\u001b[39m'\u001b[39m, [\u001b[39m'\u001b[39m\u001b[39mIdEtudiant\u001b[39m\u001b[39m'\u001b[39m, \u001b[39m'\u001b[39m\u001b[39mNomEtudiant\u001b[39m\u001b[39m'\u001b[39m])\n\u001b[1;32m      3\u001b[0m database\u001b[39m.\u001b[39madd_tuple(\u001b[39m'\u001b[39m\u001b[39mEtudiant\u001b[39m\u001b[39m'\u001b[39m, [\u001b[39m1\u001b[39m, \u001b[39m'\u001b[39m\u001b[39mBenoit\u001b[39m\u001b[39m'\u001b[39m])\n",
      "\u001b[0;31mNameError\u001b[0m: name 'BDD' is not defined"
     ]
    }
   ],
   "source": [
    "database = BDD()\n",
    "database.add_table('Etudiant', ['IdEtudiant', 'NomEtudiant'])\n",
    "database.add_tuple('Etudiant', [1, 'Benoit'])\n",
    "database.add_tuple('Etudiant', [1, 'Boucheron'])"
   ]
  },
  {
   "cell_type": "code",
   "execution_count": 13,
   "metadata": {},
   "outputs": [
    {
     "name": "stdout",
     "output_type": "stream",
     "text": [
      "{'columns': ['NomEtudianti', 'NomEtudiantj'], 'rows': []}\n",
      "{'columns': ['NomEtudianti', 'NomEtudiantj'], 'rows': [{'NomEtudianti': ('Etudiant', 'Benoit'), 'NomEtudiantj': ('Etudiant', 'Benoit')}, {'NomEtudianti': ('Etudiant', 'Benoit'), 'NomEtudiantj': ('Etudiant', 'Boucheron')}, {'NomEtudianti': ('Etudiant', 'Boucheron'), 'NomEtudiantj': ('Etudiant', 'Benoit')}, {'NomEtudianti': ('Etudiant', 'Boucheron'), 'NomEtudiantj': ('Etudiant', 'Boucheron')}]}\n",
      "ETUDIANT\n",
      "------------------------------\n",
      "IdEtudiant     NomEtudiant    \n",
      "1              Boucheron      \n",
      "1              Boucheron      \n",
      "\n"
     ]
    }
   ],
   "source": [
    "r= AtomeRelationel(\"Etudiant\", ['IdEtudiant', 'NomEtudiant'])\n",
    "x = AtomeEgalite((\"IdEtudiant\",\"Etudiant\"),(\"IdEtudiant\",\"Etudiant\"))\n",
    "y=  AtomeEgalite((\"NomEtudiant\",\"Etudiant\"),(\"NomEtudiant\",\"Etudiant\"))\n",
    "egd= EGD([r,r,x],[y])\n",
    "database.Oblivious_skolem_chase(egd)\n",
    "\n",
    "database.afficher_toutes_les_tables()"
   ]
  },
  {
   "attachments": {},
   "cell_type": "markdown",
   "metadata": {},
   "source": [
    "## Test du Core Chase "
   ]
  },
  {
   "cell_type": "code",
   "execution_count": 14,
   "metadata": {},
   "outputs": [
    {
     "name": "stdout",
     "output_type": "stream",
     "text": [
      "{'A': 'a', 'C': null3}\n",
      "{'A': 'a', 'C': null4}\n",
      "R\n",
      "------------------------------\n",
      "A              B              \n",
      "a              b              \n",
      "a              c              \n",
      "\n",
      "S\n",
      "------------------------------\n",
      "A              C              \n",
      "a              null3\n",
      "a              null4\n",
      "\n",
      "base de donnée avant kernelization None\n",
      "index-tuple 0 {'A': 'a', 'C': null4}\n",
      "index-tuple 1 {'A': 'a', 'C': null3}\n",
      "hahahaha\n",
      "index-tuple 0 {'A': 'a', 'C': null3}\n",
      "R\n",
      "------------------------------\n",
      "A              B              \n",
      "a              b              \n",
      "a              c              \n",
      "\n",
      "S\n",
      "------------------------------\n",
      "A              C              \n",
      "a              null3\n",
      "\n",
      "base de donnée apres kernelization None\n"
     ]
    }
   ],
   "source": [
    "database = BDD()\n",
    "database.add_table('employees', ['id', 'name', 'salary'])\n",
    "database.add_tuple('employees', [1, 'Alice', 50000])\n",
    "database.add_tuple('employees', [2, 'Bob', 60000])\n",
    "database.add_tuple('employees', [3, 'Charlie', 70000])\n",
    "\n",
    "database.add_table('departments', ['id', 'name'])\n",
    "database.add_tuple('departments', [2, 'T'])\n",
    "database.add_tuple('departments', [1, 'S'])\n",
    "\n",
    "database.add_table('ingenieur', ['id', 'name', 'age'])\n",
    "database.add_tuple('ingenieur', [1, 'Mous', 15])\n",
    "database.add_tuple('ingenieur', [2, 'Juju', 25])\n",
    "\n",
    "db = BDD()\n",
    "\n",
    "db.add_table('R', ['A', 'B'])\n",
    "db.add_tuple('R', [\"a\",\"b\"])\n",
    "db.add_tuple('R', [\"a\",\"c\"])\n",
    "\n",
    "\n",
    "db.add_table('S', ['A', 'C'])\n",
    "\n",
    "db.afficher_toutes_les_tables\n",
    "s= AtomeRelationel(\"R\", ['A','B'])\n",
    "t= AtomeRelationel(\"S\", [\"A\",\"C\"])\n",
    "tgd_core = TGD([s],[t])\n",
    "\n",
    "db.core_chase([tgd_core])"
   ]
  }
 ],
 "metadata": {
  "kernelspec": {
   "display_name": "Python 3",
   "language": "python",
   "name": "python3"
  },
  "language_info": {
   "codemirror_mode": {
    "name": "ipython",
    "version": 3
   },
   "file_extension": ".py",
   "mimetype": "text/x-python",
   "name": "python",
   "nbconvert_exporter": "python",
   "pygments_lexer": "ipython3",
   "version": "3.8.10"
  },
  "orig_nbformat": 4
 },
 "nbformat": 4,
 "nbformat_minor": 2
}
